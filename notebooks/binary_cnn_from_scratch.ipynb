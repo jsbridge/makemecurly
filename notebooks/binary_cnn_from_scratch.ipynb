{
 "cells": [
  {
   "cell_type": "markdown",
   "metadata": {},
   "source": [
    "# Binary classification using a convolutional neural network built from scratch\n",
    "This cNN is created from scratch with three convolutional layers, each followed by a reLU activation function and a max pooling layer. There is a fully-connected layer, then the output layer with a sigmoid activation function (good for binary classification problems.) The training is done using the Caltech 101 images (slightly augmented) and the Figaro1k hair images.\n",
    "\n",
    ]
  },
  {
   "cell_type": "code",
   "execution_count": null,
   "metadata": {
    "colab": {
     "base_uri": "https://localhost:8080/",
     "height": 34
    },
    "colab_type": "code",
    "executionInfo": {
     "elapsed": 288,
     "status": "ok",
     "timestamp": 1579989193003,
     "user": {
      "displayName": "Joanna Bridge",
      "photoUrl": "https://lh3.googleusercontent.com/a-/AAuE7mBz7U7lT7_uelpUlNGFFBaSo6WzlzyxO7CZGQt05w=s64",
      "userId": "10951226562510768482"
     },
     "user_tz": 300
    },
    "id": "WKviugRNfTbN",
    "outputId": "233d60ed-28e8-4821-ffe6-7e5031be9308"
   },
   "outputs": [],
   "source": [
    "from keras.preprocessing.image import ImageDataGenerator \n",
    "from keras.models import Sequential \n",
    "from keras.layers import Conv2D, MaxPooling2D \n",
    "from keras.layers import Activation, Dropout, Flatten, Dense \n",
    "from keras import backend as K "
   ]
  },
  {
   "cell_type": "code",
   "execution_count": null,
   "metadata": {
    "colab": {
     "base_uri": "https://localhost:8080/",
     "height": 34
    },
    "colab_type": "code",
    "executionInfo": {
     "elapsed": 445,
     "status": "ok",
     "timestamp": 1579989201561,
     "user": {
      "displayName": "Joanna Bridge",
      "photoUrl": "https://lh3.googleusercontent.com/a-/AAuE7mBz7U7lT7_uelpUlNGFFBaSo6WzlzyxO7CZGQt05w=s64",
      "userId": "10951226562510768482"
     },
     "user_tz": 300
    },
    "id": "7G6Cdm4ojg_w",
    "outputId": "cd673afb-292f-41e9-fc65-b8ed1f465f6a"
   },
   "outputs": [],
   "source": [
    "# When running on Google Colab, uncomment this cell to connect to Google Drive to access images\n",
    "#from google.colab import drive \n",
    "#drive.mount('/mntDrive') "
   ]
  },
  {
   "cell_type": "code",
   "execution_count": null,
   "metadata": {
    "colab": {},
    "colab_type": "code",
    "id": "vQU-dQRkfTc-"
   },
   "outputs": [],
   "source": [
    "img_width, img_height = 200, 200\n",
    "\n",
    "# The paths for when training on Google Colab\n",
    "#train_data_dir = '/mntDrive/My Drive/Colab Notebooks/Combo/Training'\n",
    "#validation_data_dir = '/mntDrive/My Drive/Colab Notebooks/Combo/Testing'\n",
    "\n",
    "train_data_dir = './binary_hair_nonhair/train'\n",
    "validation_data_dir = './binary_hair_nonhair/test'\n",
    "nb_train_samples = 840+855\n",
    "nb_validation_samples = 210+214\n",
    "epochs = 50\n",
    "batch_size = 32"
   ]
  },
  {
   "cell_type": "code",
   "execution_count": null,
   "metadata": {
    "colab": {},
    "colab_type": "code",
    "id": "5bNBaROufTdS"
   },
   "outputs": [],
   "source": [
    "if K.image_data_format() == 'channels_first': \n",
    "    input_shape = (3, img_width, img_height) \n",
    "else: \n",
    "    input_shape = (img_width, img_height, 3) "
   ]
  },
  {
   "cell_type": "code",
   "execution_count": null,
   "metadata": {},
   "outputs": [],
   "source": [
    "# Define some metrics to judge the model performanace\n",
    "def recall_m(y_true, y_pred):\n",
    "        true_positives = K.sum(K.round(K.clip(y_true * y_pred, 0, 1)))\n",
    "        possible_positives = K.sum(K.round(K.clip(y_true, 0, 1)))\n",
    "        recall = true_positives / (possible_positives + K.epsilon())\n",
    "        return recall\n",
    "\n",
    "def precision_m(y_true, y_pred):\n",
    "        true_positives = K.sum(K.round(K.clip(y_true * y_pred, 0, 1)))\n",
    "        predicted_positives = K.sum(K.round(K.clip(y_pred, 0, 1)))\n",
    "        precision = true_positives / (predicted_positives + K.epsilon())\n",
    "        return precision\n",
    "\n",
    "def f1_m(y_true, y_pred):\n",
    "    precision = precision_m(y_true, y_pred)\n",
    "    recall = recall_m(y_true, y_pred)\n",
    "    return 2*((precision*recall)/(precision+recall+K.epsilon()))"
   ]
  },
  {
   "cell_type": "code",
   "execution_count": null,
   "metadata": {
    "colab": {},
    "colab_type": "code",
    "id": "ZIHxO8uLfTdh"
   },
   "outputs": [],
   "source": [
    "# Make the model\n",
    "model = Sequential()\n",
    "model.add(Conv2D(32, (3, 3), input_shape=input_shape))\n",
    "model.add(Activation('relu'))\n",
    "model.add(MaxPooling2D(pool_size=(2, 2)))\n",
    "\n",
    "model.add(Conv2D(32, (3, 3)))\n",
    "model.add(Activation('relu'))\n",
    "model.add(MaxPooling2D(pool_size=(2, 2)))\n",
    "\n",
    "model.add(Conv2D(64, (3, 3)))\n",
    "model.add(Activation('relu'))\n",
    "model.add(MaxPooling2D(pool_size=(2, 2)))\n",
    "\n",
    "model.add(Flatten())\n",
    "model.add(Dense(64))\n",
    "model.add(Activation('relu'))\n",
    "model.add(Dropout(0.5))\n",
    "model.add(Dense(1))\n",
    "model.add(Activation('sigmoid'))\n",
    "\n",
    "model.compile(loss='binary_crossentropy',\n",
    "              optimizer='rmsprop',\n",
    "              metrics=['accuracy',f1_m,precision_m, recall_m])"
   ]
  },
  {
   "cell_type": "code",
   "execution_count": null,
   "metadata": {
    "colab": {
     "base_uri": "https://localhost:8080/",
     "height": 1000
    },
    "colab_type": "code",
    "executionInfo": {
     "elapsed": 1600051,
     "status": "ok",
     "timestamp": 1579993619967,
     "user": {
      "displayName": "Joanna Bridge",
      "photoUrl": "https://lh3.googleusercontent.com/a-/AAuE7mBz7U7lT7_uelpUlNGFFBaSo6WzlzyxO7CZGQt05w=s64",
      "userId": "10951226562510768482"
     },
     "user_tz": 300
    },
    "id": "oGi_bbrgfTds",
    "outputId": "dd4dc01b-7552-4219-d1e7-6027780e7dfa"
   },
   "outputs": [],
   "source": [
    "train_datagen = ImageDataGenerator( \n",
    "    rescale=1. / 255, \n",
    "    shear_range=0.2, \n",
    "    zoom_range=0.2, \n",
    "    horizontal_flip=True) \n",
    "  \n",
    "test_datagen = ImageDataGenerator(rescale=1. / 255) \n",
    "  \n",
    "train_generator = train_datagen.flow_from_directory( \n",
    "    train_data_dir, \n",
    "    target_size=(img_width, img_height), \n",
    "    batch_size=batch_size, \n",
    "    class_mode='binary') \n",
    "  \n",
    "validation_generator = test_datagen.flow_from_directory( \n",
    "    validation_data_dir, \n",
    "    target_size=(img_width, img_height), \n",
    "    batch_size=batch_size, \n",
    "    class_mode='binary') \n",
    "  \n",
    "fit_history = model.fit_generator( \n",
    "    train_generator, \n",
    "    steps_per_epoch=nb_train_samples // batch_size, \n",
    "    epochs=epochs, \n",
    "    validation_data=validation_generator, \n",
    "    validation_steps=nb_validation_samples // batch_size) \n"
   ]
  },
  {
   "cell_type": "code",
   "execution_count": null,
   "metadata": {
    "colab": {},
    "colab_type": "code",
    "id": "qrn4vdXCfTeZ"
   },
   "outputs": [],
   "source": [
    "# Save the model weights to use for prediction\n",
    "model.save_weights('model_binary_sigmoid_scratch.h5') "
   ]
  },
  {
   "cell_type": "code",
   "execution_count": null,
   "metadata": {},
   "outputs": [],
   "source": [
    "# Save the model\n",
    "import pickle\n",
    "pickle.dump(fit_history.history, open('model_history_binary_final.pkl','wb'))"
   ]
  },
  {
   "cell_type": "code",
   "execution_count": null,
   "metadata": {
    "colab": {
     "base_uri": "https://localhost:8080/",
     "height": 34
    },
    "colab_type": "code",
    "executionInfo": {
     "elapsed": 221,
     "status": "ok",
     "timestamp": 1579996396438,
     "user": {
      "displayName": "Joanna Bridge",
      "photoUrl": "https://lh3.googleusercontent.com/a-/AAuE7mBz7U7lT7_uelpUlNGFFBaSo6WzlzyxO7CZGQt05w=s64",
      "userId": "10951226562510768482"
     },
     "user_tz": 300
    },
    "id": "bVQESsNzfTei",
    "outputId": "fcb160ff-062a-47d7-b93f-d2594b1f5709"
   },
   "outputs": [],
   "source": [
    "classes = train_generator.class_indices\n",
    "print(classes)"
   ]
  },
  {
   "cell_type": "markdown",
   "metadata": {},
   "source": [
    "## Model evalution\n",
    "Let's take a look at the confusion matrix to see how the model does on the training data."
   ]
  },
  {
   "cell_type": "code",
   "execution_count": null,
   "metadata": {
    "colab": {},
    "colab_type": "code",
    "id": "VHp9vgd1fTez"
   },
   "outputs": [],
   "source": [
    "import os\n",
    "import numpy as np\n",
    "from sklearn.metrics import confusion_matrix\n",
    "from keras.preprocessing import image"
   ]
  },
  {
   "cell_type": "code",
   "execution_count": null,
   "metadata": {
    "colab": {
     "base_uri": "https://localhost:8080/",
     "height": 139
    },
    "colab_type": "code",
    "executionInfo": {
     "elapsed": 3993,
     "status": "ok",
     "timestamp": 1579996548410,
     "user": {
      "displayName": "Joanna Bridge",
      "photoUrl": "https://lh3.googleusercontent.com/a-/AAuE7mBz7U7lT7_uelpUlNGFFBaSo6WzlzyxO7CZGQt05w=s64",
      "userId": "10951226562510768482"
     },
     "user_tz": 300
    },
    "id": "nL7mSvBjfTe9",
    "outputId": "00f7c1a5-f4b7-4c40-c41d-d9ff8d5af82a"
   },
   "outputs": [],
   "source": [
    "if K.image_data_format() == 'channels_first':\n",
    "    input_shape = (3, img_width, img_height)\n",
    "else:\n",
    "    input_shape = (img_width, img_height, 3)\n",
    "\n",
    "# Compile the cNN\n",
    "model = Sequential()\n",
    "model.add(Conv2D(32, (3, 3), input_shape=input_shape))\n",
    "model.add(Activation('relu'))\n",
    "model.add(MaxPooling2D(pool_size=(2, 2)))\n",
    "\n",
    "model.add(Conv2D(32, (3, 3)))\n",
    "model.add(Activation('relu'))\n",
    "model.add(MaxPooling2D(pool_size=(2, 2)))\n",
    "\n",
    "model.add(Conv2D(64, (3, 3)))\n",
    "model.add(Activation('relu'))\n",
    "model.add(MaxPooling2D(pool_size=(2, 2)))\n",
    "\n",
    "model.add(Flatten())\n",
    "model.add(Dense(64))\n",
    "model.add(Activation('relu'))\n",
    "model.add(Dropout(0.5))\n",
    "model.add(Dense(1))\n",
    "model.add(Activation('sigmoid'))\n",
    "\n",
    "model.compile(loss='binary_crossentropy',\n",
    "              optimizer='rmsprop',\n",
    "              metrics=['accuracy'])\n",
    "\n",
    "# Load weights into new model\n",
    "model.load_weights('model_binary_sigmoid_scratch.h5')\n",
    "\n",
    "# Generate the confusion matrix\n",
    "path = './binary_hair_nonhair/test'\n",
    "files = os.listdir(path)\n",
    "\n",
    "y_true = [] # List of actual labels, used to generate the confusion matrix\n",
    "y_pred = [] # List of the predicted labels\n",
    "dict_labels = {0:'nonhair', 1:'hair'}\n",
    "\n",
    "# Iterate over every class directory, and every image in each directory\n",
    "for file in files:\n",
    "    if os.path.isdir(os.path.join(path, file)):\n",
    "        label_true = file \n",
    "        path_subfolder = path + file\n",
    "        subfiles = os.listdir(path_subfolder)\n",
    "        for subfile in subfiles:\n",
    "            if subfile == '.DS_Store':\n",
    "                continue\n",
    "            img_path = os.path.join(path_subfolder, subfile)\n",
    "\n",
    "            img = image.load_img(img_path, target_size = (img_width, img_height))\n",
    "            img_tensor = image.img_to_array(img)\n",
    "            img_tensor = np.expand_dims(img_tensor, axis=0)\n",
    "            img_tensor /= 255\n",
    "\n",
    "            pred = model.predict(img_tensor) # Make class prediction\n",
    "            label_pred = dict_labels[np.argmax(pred[0])]\n",
    "\n",
    "            y_true.append(label_true)\n",
    "            y_pred.append(label_pred) \n",
    "\n",
    "\n",
    "# Generate, print the confusion matrix\n",
    "cm = confusion_matrix(y_true, y_pred, labels=['nonhair', 'hair'])\n",
    "print(cm)"
   ]
  },
  {
   "cell_type": "code",
   "execution_count": null,
   "metadata": {
    "colab": {},
    "colab_type": "code",
    "id": "GlnbjF-ufTfG"
   },
   "outputs": [],
   "source": [
    "import matplotlib.pyplot as plt\n",
    "import numpy as np"
   ]
  },
  {
   "cell_type": "code",
   "execution_count": null,
   "metadata": {
    "colab": {
     "base_uri": "https://localhost:8080/",
     "height": 597
    },
    "colab_type": "code",
    "executionInfo": {
     "elapsed": 1291,
     "status": "ok",
     "timestamp": 1579996723600,
     "user": {
      "displayName": "Joanna Bridge",
      "photoUrl": "https://lh3.googleusercontent.com/a-/AAuE7mBz7U7lT7_uelpUlNGFFBaSo6WzlzyxO7CZGQt05w=s64",
      "userId": "10951226562510768482"
     },
     "user_tz": 300
    },
    "id": "q48xI21kfTfh",
    "outputId": "e456111b-112d-4157-f0ef-92d07808a4ad"
   },
   "outputs": [],
   "source": [
    "# Make a nice figure\n",
    "fig, ax = plt.subplots(figsize=(10,10))\n",
    "im = ax.imshow(cm, origin = 'upper', cmap = 'YlGn')\n",
    "ax.set_title('Confusion Matrix', fontsize = 16, y = 1.1)\n",
    "for (j,i), label in np.ndenumerate(cm):\n",
    "    ax.text(i, j, label, ha = 'center', va = 'center', fontsize = 14)\n",
    "plt.xticks([0,1], ('Not Hair', 'Hair'), fontsize=14)\n",
    "plt.yticks([0,1], ('Not Hair', 'Hair'), fontsize=14)\n",
    "ax.set_ylim(-0.5, 1.5)\n",
    "\n",
    "cb = plt.colorbar(im)\n",
    "cb.ax.tick_params(labelsize = 14) \n",
    "plt.savefig('binary_confusion_matrix.pdf')\n",
    "plt.show()"
   ]
  }
 ],
 "metadata": {
  "accelerator": "GPU",
  "colab": {
   "name": "cnn_from_scratch.ipynb",
   "provenance": []
  },
  "kernelspec": {
   "display_name": "Python 2",
   "language": "python",
   "name": "python2"
  },
  "language_info": {
   "codemirror_mode": {
    "name": "ipython",
    "version": 2
   },
   "file_extension": ".py",
   "mimetype": "text/x-python",
   "name": "python",
   "nbconvert_exporter": "python",
   "pygments_lexer": "ipython2",
   "version": "2.7.16"
  }
 },
 "nbformat": 4,
 "nbformat_minor": 1
}
